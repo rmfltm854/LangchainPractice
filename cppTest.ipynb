{
 "cells": [
  {
   "cell_type": "markdown",
   "metadata": {},
   "source": [
    "<h1>LLM로드</h1>"
   ]
  },
  {
   "cell_type": "markdown",
   "metadata": {},
   "source": [
    "<h2>1. Local 동작 llama2</h2>"
   ]
  },
  {
   "cell_type": "code",
   "execution_count": 35,
   "metadata": {},
   "outputs": [
    {
     "name": "stderr",
     "output_type": "stream",
     "text": [
      "llama_model_loader: loaded meta data with 19 key-value pairs and 291 tensors from /Users/jominsu/Downloads/llama-2-7b-chat.Q8_0.gguf (version GGUF V2)\n",
      "llama_model_loader: Dumping metadata keys/values. Note: KV overrides do not apply in this output.\n",
      "llama_model_loader: - kv   0:                       general.architecture str              = llama\n",
      "llama_model_loader: - kv   1:                               general.name str              = LLaMA v2\n",
      "llama_model_loader: - kv   2:                       llama.context_length u32              = 4096\n",
      "llama_model_loader: - kv   3:                     llama.embedding_length u32              = 4096\n",
      "llama_model_loader: - kv   4:                          llama.block_count u32              = 32\n",
      "llama_model_loader: - kv   5:                  llama.feed_forward_length u32              = 11008\n",
      "llama_model_loader: - kv   6:                 llama.rope.dimension_count u32              = 128\n",
      "llama_model_loader: - kv   7:                 llama.attention.head_count u32              = 32\n",
      "llama_model_loader: - kv   8:              llama.attention.head_count_kv u32              = 32\n",
      "llama_model_loader: - kv   9:     llama.attention.layer_norm_rms_epsilon f32              = 0.000001\n",
      "llama_model_loader: - kv  10:                          general.file_type u32              = 7\n",
      "llama_model_loader: - kv  11:                       tokenizer.ggml.model str              = llama\n",
      "llama_model_loader: - kv  12:                      tokenizer.ggml.tokens arr[str,32000]   = [\"<unk>\", \"<s>\", \"</s>\", \"<0x00>\", \"<...\n",
      "llama_model_loader: - kv  13:                      tokenizer.ggml.scores arr[f32,32000]   = [0.000000, 0.000000, 0.000000, 0.0000...\n",
      "llama_model_loader: - kv  14:                  tokenizer.ggml.token_type arr[i32,32000]   = [2, 3, 3, 6, 6, 6, 6, 6, 6, 6, 6, 6, ...\n",
      "llama_model_loader: - kv  15:                tokenizer.ggml.bos_token_id u32              = 1\n",
      "llama_model_loader: - kv  16:                tokenizer.ggml.eos_token_id u32              = 2\n",
      "llama_model_loader: - kv  17:            tokenizer.ggml.unknown_token_id u32              = 0\n",
      "llama_model_loader: - kv  18:               general.quantization_version u32              = 2\n",
      "llama_model_loader: - type  f32:   65 tensors\n",
      "llama_model_loader: - type q8_0:  226 tensors\n",
      "llm_load_vocab: special tokens definition check successful ( 259/32000 ).\n",
      "llm_load_print_meta: format           = GGUF V2\n",
      "llm_load_print_meta: arch             = llama\n",
      "llm_load_print_meta: vocab type       = SPM\n",
      "llm_load_print_meta: n_vocab          = 32000\n",
      "llm_load_print_meta: n_merges         = 0\n",
      "llm_load_print_meta: n_ctx_train      = 4096\n",
      "llm_load_print_meta: n_embd           = 4096\n",
      "llm_load_print_meta: n_head           = 32\n",
      "llm_load_print_meta: n_head_kv        = 32\n",
      "llm_load_print_meta: n_layer          = 32\n",
      "llm_load_print_meta: n_rot            = 128\n",
      "llm_load_print_meta: n_embd_head_k    = 128\n",
      "llm_load_print_meta: n_embd_head_v    = 128\n",
      "llm_load_print_meta: n_gqa            = 1\n",
      "llm_load_print_meta: n_embd_k_gqa     = 4096\n",
      "llm_load_print_meta: n_embd_v_gqa     = 4096\n",
      "llm_load_print_meta: f_norm_eps       = 0.0e+00\n",
      "llm_load_print_meta: f_norm_rms_eps   = 1.0e-06\n",
      "llm_load_print_meta: f_clamp_kqv      = 0.0e+00\n",
      "llm_load_print_meta: f_max_alibi_bias = 0.0e+00\n",
      "llm_load_print_meta: n_ff             = 11008\n",
      "llm_load_print_meta: n_expert         = 0\n",
      "llm_load_print_meta: n_expert_used    = 0\n",
      "llm_load_print_meta: rope scaling     = linear\n",
      "llm_load_print_meta: freq_base_train  = 10000.0\n",
      "llm_load_print_meta: freq_scale_train = 1\n",
      "llm_load_print_meta: n_yarn_orig_ctx  = 4096\n",
      "llm_load_print_meta: rope_finetuned   = unknown\n",
      "llm_load_print_meta: model type       = 7B\n",
      "llm_load_print_meta: model ftype      = Q8_0\n",
      "llm_load_print_meta: model params     = 6.74 B\n",
      "llm_load_print_meta: model size       = 6.67 GiB (8.50 BPW) \n",
      "llm_load_print_meta: general.name     = LLaMA v2\n",
      "llm_load_print_meta: BOS token        = 1 '<s>'\n",
      "llm_load_print_meta: EOS token        = 2 '</s>'\n",
      "llm_load_print_meta: UNK token        = 0 '<unk>'\n",
      "llm_load_print_meta: LF token         = 13 '<0x0A>'\n",
      "llm_load_tensors: ggml ctx size =    0.22 MiB\n",
      "ggml_backend_metal_buffer_from_ptr: allocated buffer, size =   205.11 MiB, (  703.42 / 21845.34)\n",
      "llm_load_tensors: offloading 1 repeating layers to GPU\n",
      "llm_load_tensors: offloaded 1/33 layers to GPU\n",
      "llm_load_tensors:        CPU buffer size =  6828.64 MiB\n",
      "llm_load_tensors:      Metal buffer size =   205.10 MiB\n",
      "....................................................................................................\n",
      "llama_new_context_with_model: n_ctx      = 2046\n",
      "llama_new_context_with_model: freq_base  = 10000.0\n",
      "llama_new_context_with_model: freq_scale = 1\n",
      "ggml_metal_init: allocating\n",
      "ggml_metal_init: found device: Apple M1 Pro\n",
      "ggml_metal_init: picking default device: Apple M1 Pro\n",
      "ggml_metal_init: default.metallib not found, loading from source\n",
      "ggml_metal_init: GGML_METAL_PATH_RESOURCES = nil\n",
      "ggml_metal_init: loading '/Users/jominsu/anaconda3/envs/documentChatbot/lib/python3.10/site-packages/llama_cpp/ggml-metal.metal'\n",
      "ggml_metal_init: GPU name:   Apple M1 Pro\n",
      "ggml_metal_init: GPU family: MTLGPUFamilyApple7  (1007)\n",
      "ggml_metal_init: GPU family: MTLGPUFamilyCommon3 (3003)\n",
      "ggml_metal_init: GPU family: MTLGPUFamilyMetal3  (5001)\n",
      "ggml_metal_init: simdgroup reduction support   = true\n",
      "ggml_metal_init: simdgroup matrix mul. support = true\n",
      "ggml_metal_init: hasUnifiedMemory              = true\n",
      "ggml_metal_init: recommendedMaxWorkingSetSize  = 22906.50 MB\n",
      "llama_kv_cache_init:        CPU KV buffer size =   991.03 MiB\n",
      "ggml_backend_metal_buffer_type_alloc_buffer: allocated buffer, size =    31.97 MiB, (  735.39 / 21845.34)\n",
      "llama_kv_cache_init:      Metal KV buffer size =    31.97 MiB\n",
      "llama_new_context_with_model: KV self size  = 1023.00 MiB, K (f16):  511.50 MiB, V (f16):  511.50 MiB\n",
      "ggml_backend_metal_buffer_type_alloc_buffer: allocated buffer, size =     0.02 MiB, (  735.41 / 21845.34)\n",
      "ggml_backend_metal_buffer_type_alloc_buffer: allocated buffer, size =     2.44 MiB, (  737.83 / 21845.34)\n",
      "llama_new_context_with_model: graph splits (measure): 5\n",
      "llama_new_context_with_model:      Metal compute buffer size =     2.44 MiB\n",
      "llama_new_context_with_model:        CPU compute buffer size =     2.44 MiB\n",
      "AVX = 0 | AVX_VNNI = 0 | AVX2 = 0 | AVX512 = 0 | AVX512_VBMI = 0 | AVX512_VNNI = 0 | FMA = 0 | NEON = 1 | ARM_FMA = 1 | F16C = 0 | FP16_VA = 1 | WASM_SIMD = 0 | BLAS = 1 | SSE3 = 0 | SSSE3 = 0 | VSX = 0 | \n"
     ]
    }
   ],
   "source": [
    "from langchain_community.llms import LlamaCpp\n",
    "from langchain.callbacks.manager import CallbackManager\n",
    "from langchain.callbacks.streaming_stdout import StreamingStdOutCallbackHandler\n",
    "\n",
    "callback_manager = CallbackManager([StreamingStdOutCallbackHandler()])\n",
    "\n",
    "llm = LlamaCpp(model_path=\"/Users/jominsu/Downloads/llama-2-7b-chat.Q8_0.gguf\",\n",
    "             temperature=0,\n",
    "            # top_p=0.95,\n",
    "            # max_tokens=8192,\n",
    "            # verbose=True,\n",
    "            # # n_ctx: 모델이 한 번에 처리할 수 있는 최대 컨텍스트 길이\n",
    "            n_ctx=2046,\n",
    "            # # n_gpu_layers: 실리콘 맥에서는 1이면 충분하다고 한다\n",
    "            n_gpu_layers=1,\n",
    "            # n_ctx=512,\n",
    "            callback_manager=callback_manager,\n",
    "            # n_batch=512,\n",
    "            # f16_kv=True,\n",
    "            # n_threads=16,\n",
    "            )"
   ]
  },
  {
   "cell_type": "markdown",
   "metadata": {},
   "source": [
    "<h2>2. HuggingfaceHub를 사용해서 api형식으로 사용(컴퓨팅파워가 부족할떄 사용!)단, 속도가 느려요.</h2>"
   ]
  },
  {
   "cell_type": "code",
   "execution_count": 15,
   "metadata": {},
   "outputs": [],
   "source": [
    "# token 발급 받는법: https://huggingface.co/docs/api-inference/quicktour#get-your-api-token\n",
    "\n",
    "from getpass import getpass\n",
    "\n",
    "HUGGINGFACEHUB_API_TOKEN = getpass()"
   ]
  },
  {
   "cell_type": "code",
   "execution_count": 16,
   "metadata": {},
   "outputs": [],
   "source": [
    "import os\n",
    "\n",
    "os.environ[\"HUGGINGFACEHUB_API_TOKEN\"] = HUGGINGFACEHUB_API_TOKEN"
   ]
  },
  {
   "cell_type": "code",
   "execution_count": 17,
   "metadata": {},
   "outputs": [],
   "source": [
    "from langchain_community.llms import HuggingFaceHub"
   ]
  },
  {
   "cell_type": "code",
   "execution_count": 18,
   "metadata": {},
   "outputs": [
    {
     "name": "stderr",
     "output_type": "stream",
     "text": [
      "/Users/jominsu/anaconda3/envs/documentChatbot/lib/python3.10/site-packages/huggingface_hub/utils/_deprecation.py:131: FutureWarning: 'InferenceApi' (from 'huggingface_hub.inference_api') is deprecated and will be removed from version '1.0'. `InferenceApi` client is deprecated in favor of the more feature-complete `InferenceClient`. Check out this guide to learn how to convert your script to use it: https://huggingface.co/docs/huggingface_hub/guides/inference#legacy-inferenceapi-client.\n",
      "  warnings.warn(warning_message, FutureWarning)\n"
     ]
    }
   ],
   "source": [
    "repo_id = \"tiiuae/falcon-40b\"\n",
    "\n",
    "llm = HuggingFaceHub(\n",
    "    repo_id=repo_id, model_kwargs={\"temperature\": 0.5, \"max_length\": 64}\n",
    ")"
   ]
  },
  {
   "cell_type": "markdown",
   "metadata": {},
   "source": [
    "<h1>PDF경로 불러오기</h1>"
   ]
  },
  {
   "cell_type": "code",
   "execution_count": 2,
   "metadata": {},
   "outputs": [
    {
     "name": "stdout",
     "output_type": "stream",
     "text": [
      "/Users/jominsu/Desktop/CPPTest/GooglePatent.pdf\n"
     ]
    }
   ],
   "source": [
    "from langchain.document_loaders import PyPDFLoader\n",
    "pdf_path = '/Users/jominsu/Desktop/CPPTest/GooglePatent.pdf'\n",
    "print(pdf_path)"
   ]
  },
  {
   "cell_type": "code",
   "execution_count": null,
   "metadata": {},
   "outputs": [],
   "source": []
  },
  {
   "cell_type": "markdown",
   "metadata": {},
   "source": [
    "<h1>textSplit</h1>"
   ]
  },
  {
   "cell_type": "code",
   "execution_count": null,
   "metadata": {},
   "outputs": [],
   "source": [
    "from langchain.text_splitter import  RecursiveCharacterTextSplitter\n",
    "loader = PyPDFLoader(pdf_path)##경로를 통해 pdf파일 확보\n",
    "document  = loader.load()##load 파일\n",
    "text_splitter =  RecursiveCharacterTextSplitter(chunk_size=800, chunk_overlap=200)## textSplitter정의\n",
    "chunked_documents = text_splitter.split_documents(document)\n",
    "chunked_documents"
   ]
  },
  {
   "cell_type": "markdown",
   "metadata": {},
   "source": [
    "<h1>Embedding</h1>"
   ]
  },
  {
   "cell_type": "code",
   "execution_count": 4,
   "metadata": {},
   "outputs": [],
   "source": [
    "from langchain.vectorstores import Chroma\n",
    "from langchain.embeddings import HuggingFaceEmbeddings"
   ]
  },
  {
   "cell_type": "code",
   "execution_count": 5,
   "metadata": {},
   "outputs": [
    {
     "name": "stderr",
     "output_type": "stream",
     "text": [
      "/Users/jominsu/anaconda3/envs/documentChatbot/lib/python3.10/site-packages/tqdm/auto.py:21: TqdmWarning: IProgress not found. Please update jupyter and ipywidgets. See https://ipywidgets.readthedocs.io/en/stable/user_install.html\n",
      "  from .autonotebook import tqdm as notebook_tqdm\n"
     ]
    }
   ],
   "source": [
    "embeddings = HuggingFaceEmbeddings(\n",
    "    encode_kwargs={'normalize_embeddings': True}\n",
    ")"
   ]
  },
  {
   "cell_type": "code",
   "execution_count": 6,
   "metadata": {},
   "outputs": [],
   "source": [
    "from langchain.vectorstores import Chroma\n",
    "vectordb= Chroma.from_documents(chunked_documents, embeddings, persist_directory=\"./pdfData\")\n",
    "retriever = vectordb.as_retriever()"
   ]
  },
  {
   "cell_type": "code",
   "execution_count": 42,
   "metadata": {},
   "outputs": [],
   "source": [
    "from langchain.prompts.chat import (\n",
    "    ChatPromptTemplate,\n",
    "    SystemMessagePromptTemplate,\n",
    "    HumanMessagePromptTemplate,\n",
    ")\n",
    "system_template=\"\"\"\n",
    "{summaries}\n",
    "Always answer in Korean and keep your answers short.\n",
    "Answer: \n",
    "\"\"\""
   ]
  },
  {
   "cell_type": "code",
   "execution_count": 43,
   "metadata": {},
   "outputs": [],
   "source": [
    "systemprompt = SystemMessagePromptTemplate.from_template(system_template)\n",
    "humanprompt = HumanMessagePromptTemplate.from_template(\"{question}\")\n",
    "prompt = ChatPromptTemplate.from_messages([systemprompt,humanprompt])"
   ]
  },
  {
   "cell_type": "code",
   "execution_count": 45,
   "metadata": {},
   "outputs": [],
   "source": [
    "from langchain.chains import RetrievalQAWithSourcesChain\n",
    "\n",
    "chain_type_kwargs = {\"prompt\" : prompt}\n",
    "\n",
    "chain = RetrievalQAWithSourcesChain.from_chain_type(\n",
    "    llm=llm,\n",
    "    chain_type=\"stuff\",\n",
    "    retriever =retriever,\n",
    "    return_source_documents=True,\n",
    "    chain_type_kwargs=chain_type_kwargs\n",
    ")\n"
   ]
  },
  {
   "cell_type": "code",
   "execution_count": 32,
   "metadata": {},
   "outputs": [
    {
     "name": "stdout",
     "output_type": "stream",
     "text": [
      "\n",
      "Content: US 11,222,252 B2 Page 2 \n",
      "Related U.S. Application Data \n",
      "(60) Provisional application No. 62/009,121 , filed on Jun . 6 , 2014 . \n",
      "(56) References Cited \n",
      "U.S. PATENT DOCUMENTS \n",
      "10,181,098 B2 * 2004/0002848 Al \n",
      "2006/0136193 A1 \n",
      "2014/0229158 A1 1/2019 Vinyals G06F 40/40 \n",
      "1/2004 Zhou et al . 6/2006 Lux - Pogodalla et al . 8/2014 Zweig \n",
      "FOREIGN PATENT DOCUMENTS \n",
      "CN \n",
      "EP \n",
      "EP \n",
      "WO 101077011 0094293 0"
     ]
    },
    {
     "name": "stderr",
     "output_type": "stream",
     "text": [
      "\n",
      "llama_print_timings:        load time =     482.31 ms\n",
      "llama_print_timings:      sample time =      46.58 ms /   256 runs   (    0.18 ms per token,  5496.16 tokens per second)\n",
      "llama_print_timings: prompt eval time =   57088.34 ms /  1421 tokens (   40.17 ms per token,    24.89 tokens per second)\n",
      "llama_print_timings:        eval time =   25042.31 ms /   255 runs   (   98.21 ms per token,    10.18 tokens per second)\n",
      "llama_print_timings:       total time =   82866.57 ms /  1676 tokens\n"
     ]
    }
   ],
   "source": [
    "result = chain(\"Who is the applicant for this patent?\")"
   ]
  },
  {
   "cell_type": "code",
   "execution_count": 34,
   "metadata": {},
   "outputs": [
    {
     "data": {
      "text/plain": [
       "'\\nContent: US 11,222,252 B2 Page 2 \\nRelated U.S. Application Data \\n(60) Provisional application No. 62/009,121 , filed on Jun . 6 , 2014 . \\n(56) References Cited \\nU.S. PATENT DOCUMENTS \\n10,181,098 B2 * 2004/0002848 Al \\n2006/0136193 A1 \\n2014/0229158 A1 1/2019 Vinyals G06F 40/40 \\n1/2004 Zhou et al . 6/2006 Lux - Pogodalla et al . 8/2014 Zweig \\nFOREIGN PATENT DOCUMENTS \\nCN \\nEP \\nEP \\nWO 101077011 0094293 0'"
      ]
     },
     "execution_count": 34,
     "metadata": {},
     "output_type": "execute_result"
    }
   ],
   "source": [
    "result['answer']"
   ]
  },
  {
   "cell_type": "markdown",
   "metadata": {},
   "source": [
    "<h1>Test</h1>"
   ]
  },
  {
   "cell_type": "code",
   "execution_count": 42,
   "metadata": {},
   "outputs": [
    {
     "name": "stdout",
     "output_type": "stream",
     "text": [
      " The applicant for this patent is Google LLC, Mountain View, CA (US).\n"
     ]
    },
    {
     "name": "stderr",
     "output_type": "stream",
     "text": [
      "\n",
      "llama_print_timings:        load time =    7021.36 ms\n",
      "llama_print_timings:      sample time =       1.93 ms /    20 runs   (    0.10 ms per token, 10384.22 tokens per second)\n",
      "llama_print_timings: prompt eval time =   22153.49 ms /  1364 tokens (   16.24 ms per token,    61.57 tokens per second)\n",
      "llama_print_timings:        eval time =  152580.46 ms /    19 runs   ( 8030.55 ms per token,     0.12 tokens per second)\n",
      "llama_print_timings:       total time =  174768.96 ms /  1383 tokens\n"
     ]
    }
   ],
   "source": [
    "res = chain.run({\"question\":\"Who is the applicant for this patent??\"})\n",
    "print(res)"
   ]
  },
  {
   "cell_type": "markdown",
   "metadata": {},
   "source": [
    "<h1>gradio로 챗봇 만들기</h1>"
   ]
  },
  {
   "cell_type": "code",
   "execution_count": null,
   "metadata": {},
   "outputs": [],
   "source": [
    "import gradio as gr\n",
    "from langchain.schema import AIMessage, HumanMessage, SystemMessage\n",
    "def response(message, history, additional_input_info):\n",
    "    \n",
    "    gpt_response = chain(message)\n",
    "    print(gpt_response)\n",
    "    return gpt_response['answer']\n",
    "\n",
    "\n",
    "gr.ChatInterface(\n",
    "    fn=response,\n",
    "    textbox=gr.Textbox(placeholder=\"질문 해주세요!\", container=False, scale=7),\n",
    "    title=\"나만의 챗봇을 만든것을 축하드립니다!\",\n",
    "    description=\"PDF를 기반으로 답변을 해드려요.\",\n",
    "    theme=\"soft\",\n",
    "    examples=[[\"특허출원인이 누구야?\"], [\"출원번호가 뭐야?\"], [\"청구항1번 내용이뭐야?\"]],\n",
    "    retry_btn=\"다시보내기 ↩\",\n",
    "    undo_btn=\"이전챗 삭제 ❌\",\n",
    "    clear_btn=\"전챗 삭제 💫\",\n",
    "    additional_inputs=[\n",
    "        gr.Textbox(\"\", label=\"System Prompt를 입력해주세요\", placeholder=\"I'm lovely chatbot.\")\n",
    "    ]\n",
    ").launch()"
   ]
  }
 ],
 "metadata": {
  "kernelspec": {
   "display_name": "cpp_Test",
   "language": "python",
   "name": "python3"
  },
  "language_info": {
   "codemirror_mode": {
    "name": "ipython",
    "version": 3
   },
   "file_extension": ".py",
   "mimetype": "text/x-python",
   "name": "python",
   "nbconvert_exporter": "python",
   "pygments_lexer": "ipython3",
   "version": "3.10.13"
  }
 },
 "nbformat": 4,
 "nbformat_minor": 2
}
